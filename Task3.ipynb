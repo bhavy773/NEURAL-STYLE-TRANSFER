{
 "cells": [
  {
   "cell_type": "code",
   "execution_count": 1,
   "id": "e2f09ac7-e8d3-4542-9902-7a40e7f67adb",
   "metadata": {},
   "outputs": [],
   "source": [
    "# Cell 1: Setup\n",
    "import torch\n",
    "from torchvision import models, transforms\n",
    "from PIL import Image\n",
    "import matplotlib.pyplot as plt\n",
    "import torch.optim as optim\n",
    "\n",
    "device = torch.device(\"cuda\" if torch.cuda.is_available() else \"cpu\")"
   ]
  },
  {
   "cell_type": "code",
   "execution_count": 2,
   "id": "1964dbad-9d02-4d27-9939-643e38e5155a",
   "metadata": {},
   "outputs": [],
   "source": [
    "# Cell 2: Image Load and Preprocess\n",
    "def load_image(img_path, max_size=128):\n",
    "    image = Image.open(img_path).convert(\"RGB\")\n",
    "    in_transform = transforms.Compose([\n",
    "        transforms.Resize((max_size, max_size)),\n",
    "        transforms.ToTensor(),\n",
    "        transforms.Normalize([0.485, 0.456, 0.406],\n",
    "                             [0.229, 0.224, 0.225])])\n",
    "    image = in_transform(image).unsqueeze(0)\n",
    "    return image.to(device)\n"
   ]
  },
  {
   "cell_type": "code",
   "execution_count": 3,
   "id": "7d7f21b8-d323-4380-8653-cadf64b8175b",
   "metadata": {},
   "outputs": [],
   "source": [
    "# Cell 3: Utility Functions\n",
    "def gram_matrix(tensor):\n",
    "    _, d, h, w = tensor.size()\n",
    "    tensor = tensor.view(d, h * w)\n",
    "    return torch.mm(tensor, tensor.t())\n",
    "\n",
    "def get_features(image, model):\n",
    "    layers = {'0': 'conv1_1', '5': 'conv2_1', '10': 'conv3_1', '19': 'conv4_1', '21': 'conv4_2'}\n",
    "    features = {}\n",
    "    x = image\n",
    "    for name, layer in model._modules.items():\n",
    "        x = layer(x)\n",
    "        if name in layers:\n",
    "            features[layers[name]] = x\n",
    "    return features\n",
    "\n",
    "def im_convert(tensor):\n",
    "    image = tensor.to(\"cpu\").clone().detach().squeeze(0)\n",
    "    image = image * torch.tensor([0.229, 0.224, 0.225]).view(3,1,1)\n",
    "    image = image + torch.tensor([0.485, 0.456, 0.406]).view(3,1,1)\n",
    "    image = image.clamp(0, 1)\n",
    "    return transforms.ToPILImage()(image)"
   ]
  },
  {
   "cell_type": "code",
   "execution_count": 5,
   "id": "7fb6f4fd-3fa2-4332-b95c-54ff44b3a467",
   "metadata": {},
   "outputs": [],
   "source": [
    "# Cell 4: Load content and style image\n",
    "content = load_image(\"C:/Users/DELL/Downloads/Neural_Style_Transfer_CodeTech/content.jpg\")   # <-- Replace with your image path\n",
    "style = load_image(\"C:/Users/DELL/Downloads/Neural_Style_Transfer_CodeTech/style.jpg\")"
   ]
  },
  {
   "cell_type": "code",
   "execution_count": 6,
   "id": "fdf36344-7458-4433-a65e-afa2b6974b06",
   "metadata": {},
   "outputs": [
    {
     "name": "stderr",
     "output_type": "stream",
     "text": [
      "C:\\Users\\DELL\\AppData\\Roaming\\Python\\Python312\\site-packages\\torchvision\\models\\_utils.py:208: UserWarning: The parameter 'pretrained' is deprecated since 0.13 and may be removed in the future, please use 'weights' instead.\n",
      "  warnings.warn(\n",
      "C:\\Users\\DELL\\AppData\\Roaming\\Python\\Python312\\site-packages\\torchvision\\models\\_utils.py:223: UserWarning: Arguments other than a weight enum or `None` for 'weights' are deprecated since 0.13 and may be removed in the future. The current behavior is equivalent to passing `weights=VGG19_Weights.IMAGENET1K_V1`. You can also use `weights=VGG19_Weights.DEFAULT` to get the most up-to-date weights.\n",
      "  warnings.warn(msg)\n"
     ]
    },
    {
     "name": "stdout",
     "output_type": "stream",
     "text": [
      "Step 0, Loss: 3578658029568.0000\n",
      "Step 10, Loss: 3048254996480.0000\n",
      "Step 20, Loss: 2699542921216.0000\n"
     ]
    }
   ],
   "source": [
    "# Cell 5: Run Fast Style Transfer\n",
    "vgg = models.vgg19(pretrained=True).features.to(device).eval()\n",
    "\n",
    "for param in vgg.parameters():\n",
    "    param.requires_grad = False\n",
    "\n",
    "content_features = get_features(content, vgg)\n",
    "style_features = get_features(style, vgg)\n",
    "style_grams = {layer: gram_matrix(style_features[layer]) for layer in style_features}\n",
    "\n",
    "target = content.clone().requires_grad_(True)\n",
    "optimizer = optim.Adam([target], lr=0.01)\n",
    "\n",
    "steps = 30\n",
    "style_weight = 1e5\n",
    "content_weight = 1\n",
    "\n",
    "for step in range(steps):\n",
    "    target_features = get_features(target, vgg)\n",
    "    content_loss = torch.mean((target_features['conv4_2'] - content_features['conv4_2'])**2)\n",
    "\n",
    "    style_loss = 0\n",
    "    for layer in style_grams:\n",
    "        target_gram = gram_matrix(target_features[layer])\n",
    "        style_gram = style_grams[layer]\n",
    "        layer_loss = torch.mean((target_gram - style_gram)**2)\n",
    "        style_loss += layer_loss\n",
    "\n",
    "    total_loss = content_weight * content_loss + style_weight * style_loss\n",
    "\n",
    "    optimizer.zero_grad()\n",
    "    total_loss.backward()\n",
    "    optimizer.step()\n",
    "\n",
    "    if step % 10 == 0:\n",
    "        print(f\"Step {step}, Loss: {total_loss.item():.4f}\")"
   ]
  },
  {
   "cell_type": "code",
   "execution_count": 8,
   "id": "a6ce413e-2829-4939-abdd-ba55b92187ab",
   "metadata": {},
   "outputs": [],
   "source": [
    "# Cell 6: Save or show output\n",
    "final_img = im_convert(target)\n",
    "final_img.save(\"output.jpg\")\n",
    "final_img.show()"
   ]
  },
  {
   "cell_type": "code",
   "execution_count": null,
   "id": "0601236f-142b-4cc3-9f9d-eb371f650c8c",
   "metadata": {},
   "outputs": [],
   "source": []
  }
 ],
 "metadata": {
  "kernelspec": {
   "display_name": "Python 3 (ipykernel)",
   "language": "python",
   "name": "python3"
  },
  "language_info": {
   "codemirror_mode": {
    "name": "ipython",
    "version": 3
   },
   "file_extension": ".py",
   "mimetype": "text/x-python",
   "name": "python",
   "nbconvert_exporter": "python",
   "pygments_lexer": "ipython3",
   "version": "3.12.7"
  }
 },
 "nbformat": 4,
 "nbformat_minor": 5
}
